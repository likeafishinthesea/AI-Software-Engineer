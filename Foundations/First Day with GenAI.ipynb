{
 "cells": [
  {
   "cell_type": "markdown",
   "id": "054b6705-7a0b-41b9-a591-d8a0422ff1a7",
   "metadata": {},
   "source": [
    "## How to communicate with LLM models (OpenAI, Ollama, or others!)"
   ]
  },
  {
   "cell_type": "markdown",
   "id": "f6bb1617-1d87-4549-8e91-9b3734f8a2f6",
   "metadata": {},
   "source": [
    "### 1. Imports"
   ]
  },
  {
   "cell_type": "code",
   "execution_count": null,
   "id": "d33fa9ce-6280-41ef-8f12-1b6528142125",
   "metadata": {},
   "outputs": [],
   "source": [
    "import requests\n",
    "from IPython.display import Markdown, display\n",
    "from openai import OpenAI"
   ]
  },
  {
   "cell_type": "markdown",
   "id": "4cc102e2-7727-418f-bda1-9f8fe06e0d4f",
   "metadata": {},
   "source": [
    "### 2. Create an object of OpenAI class"
   ]
  },
  {
   "cell_type": "code",
   "execution_count": 5,
   "id": "2e573ce4-825a-4056-876b-524cc649bd70",
   "metadata": {},
   "outputs": [],
   "source": [
    "MODEL = \"llama3.2\"\n",
    "openai = OpenAI(base_url=\"http://localhost:11434/v1\", api_key=\"ollama\")"
   ]
  },
  {
   "cell_type": "markdown",
   "id": "6d99e1a4-e92c-4945-a545-2d924dad61e8",
   "metadata": {},
   "source": [
    "### 3. Write your user and system Prompt"
   ]
  },
  {
   "cell_type": "code",
   "execution_count": 6,
   "id": "eb5e36ea-3de3-45db-bd8f-f74bb7cf277a",
   "metadata": {},
   "outputs": [],
   "source": [
    "url = \"https://www.drberg.com/blog/fruits-versus-berries-on-a-ketogenic-diet\"\n",
    "system_prompt = \"You are an AI health assistant and need to help to choose the right food.\"\n",
    "user_prompt = \"You need to read the website and tell me: Can I eat Kiwi and Banana in keto genetics diet? \""
   ]
  },
  {
   "cell_type": "markdown",
   "id": "c23ceeb5-3b04-490d-88d7-cf20cc9ee60b",
   "metadata": {},
   "source": [
    "### 4. Ask OpenAI"
   ]
  },
  {
   "cell_type": "code",
   "execution_count": 7,
   "id": "ad55879f-01b8-43bf-91cb-5a9b76cabb14",
   "metadata": {},
   "outputs": [],
   "source": [
    "diet_message = [{\"role\": \"system\", \"content\": system_prompt}, {\"role\": \"user\", \"content\":user_prompt}]\n",
    "response = openai.chat.completions.create(model = MODEL, messages = diet_message)\n",
    "response_content = response.choices[0].message.content"
   ]
  },
  {
   "cell_type": "markdown",
   "id": "7617046a-04d1-43c5-a24c-ff62e85699fc",
   "metadata": {},
   "source": [
    "### 5. Print the reponse"
   ]
  },
  {
   "cell_type": "code",
   "execution_count": 8,
   "id": "49d2a828-ba99-4340-9dec-37c76870f31d",
   "metadata": {},
   "outputs": [
    {
     "data": {
      "text/markdown": [
       "After reviewing the keto genetics diet, I found that:\n",
       "\n",
       "**Kiwi:** While kiwis are nutrient-rich and contain some vitamins and minerals, they are relatively high in carbohydrates. One medium-sized kiwi contains about 6 grams of carbs. In the context of a keto lifestyle, this would mean that eating a whole kiwi could put you slightly over your daily carb limit.\n",
       "\n",
       "However, if you have a \"liberal\" approach to keto genetics (i.e., allowing for slightly more flexibility with food choices), you might be able to include one entire kiwi in your diet without significant issues. But keep in mind that moderation is key.\n",
       "\n",
       "**Banana:** Bananas are an obvious no-go on most standard keto diets. They contain around 27-30 grams of carbs per medium-sized banana, which can quickly exceed a ketogenic diet's daily carb limit.\n",
       "\n",
       "On the other hand, with \"keto genetics,\" some practitioners might consider allow just a tiny amount, about less than 5g of net carbs per serving, as acceptable for personalized keto adaptation.\n",
       "\n",
       "For both fruits, consider consulting your Healthcare provider and your genetic Profile."
      ],
      "text/plain": [
       "<IPython.core.display.Markdown object>"
      ]
     },
     "metadata": {},
     "output_type": "display_data"
    }
   ],
   "source": [
    "display(Markdown(response_content))"
   ]
  },
  {
   "cell_type": "markdown",
   "id": "f57542df-a940-48da-9e1d-dd4f69bc8985",
   "metadata": {},
   "source": [
    "### 6. Well done!"
   ]
  }
 ],
 "metadata": {
  "kernelspec": {
   "display_name": "Python 3 (ipykernel)",
   "language": "python",
   "name": "python3"
  },
  "language_info": {
   "codemirror_mode": {
    "name": "ipython",
    "version": 3
   },
   "file_extension": ".py",
   "mimetype": "text/x-python",
   "name": "python",
   "nbconvert_exporter": "python",
   "pygments_lexer": "ipython3",
   "version": "3.11.9"
  }
 },
 "nbformat": 4,
 "nbformat_minor": 5
}
